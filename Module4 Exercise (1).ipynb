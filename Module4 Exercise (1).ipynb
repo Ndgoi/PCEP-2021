{
 "cells": [
  {
   "cell_type": "markdown",
   "metadata": {},
   "source": [
    "### Module 4 Exercise"
   ]
  },
  {
   "cell_type": "markdown",
   "metadata": {},
   "source": [
    "1. How many occurences of \"row\" is in \"Row, row, row your boat. Gently down the stream. Merrily, merrily, merrily, merrily. Life is but a dream. Row, row, row your boat. Gently up the creek.\" "
   ]
  },
  {
   "cell_type": "code",
   "execution_count": 8,
   "metadata": {},
   "outputs": [
    {
     "name": "stdout",
     "output_type": "stream",
     "text": [
      "The number of times the word row appeared in the rhymes  0\n"
     ]
    }
   ],
   "source": [
    "\n",
    "rhymes=\"Row,row,row your boat. Gently down the stream. Merrily,Merrily,Merrily,Merrily. Life is but a dream. Row,row,row your boat. Gently up the creek.\"\n",
    "count=0;\n",
    "words=rhymes.split()\n",
    "#iterating through the words list\n",
    "for i in words:\n",
    "#if the word matches with row then increment count by 1\n",
    "    if(i.lower()==\"row\"):\n",
    "        count=count+1\n",
    "print(\"The number of times the word row appeared in the rhymes \",count)"
   ]
  },
  {
   "cell_type": "markdown",
   "metadata": {},
   "source": [
    "2. Ask a user for a name, color, and an animal.  <br>\n",
    "Then using string format method per each line, show following:<br>\n",
    "<b><i>name</i></b> had a little <b><i>animal</i></b>. <br>\n",
    "It was <b><i>color</i></b> as snow. <br>\n",
    "And everywhere that <b><i>name</i></b> went, the <b><i>animal</i></b> was sure to go."
   ]
  },
  {
   "cell_type": "code",
   "execution_count": 1,
   "metadata": {},
   "outputs": [
    {
     "name": "stdout",
     "output_type": "stream",
     "text": [
      "Enter the name: Natika\n",
      "Enter the color: white\n",
      "Enter the animal: dog\n",
      "Natika had a little dog. \n",
      "It was white as snow.\n",
      "And everywhere that Natika went, the dog was sure to go.\n"
     ]
    }
   ],
   "source": [
    "text=\"{name} had a little {animal}. \\nIt was {color} as snow.\\nAnd everywhere that {name} went, the {animal} was sure to go.\".format(name=input(\"Enter the name: \"),color=input(\"Enter the color: \"),animal=input(\"Enter the animal: \"))\n",
    "#print the text\n",
    "print(text)"
   ]
  },
  {
   "cell_type": "markdown",
   "metadata": {},
   "source": [
    "3. Print 3.14159 in a scientific number notation "
   ]
  },
  {
   "cell_type": "code",
   "execution_count": 2,
   "metadata": {},
   "outputs": [
    {
     "name": "stdout",
     "output_type": "stream",
     "text": [
      "3.141590e+00\n"
     ]
    }
   ],
   "source": [
    "print(\"{:e}\".format(3.14159))"
   ]
  },
  {
   "cell_type": "markdown",
   "metadata": {},
   "source": [
    "4. Print 3.1559 in 3 decimal places"
   ]
  },
  {
   "cell_type": "code",
   "execution_count": null,
   "metadata": {},
   "outputs": [],
   "source": [
    "print(\"{:.3f}\".format(3.1559))"
   ]
  },
  {
   "cell_type": "markdown",
   "metadata": {},
   "source": [
    "5. Print 1589.92341 in a scientific number notation to the power of 3"
   ]
  },
  {
   "cell_type": "code",
   "execution_count": null,
   "metadata": {},
   "outputs": [],
   "source": [
    "print(\"{:e}\".format(pow(1589.92341,3)))"
   ]
  },
  {
   "cell_type": "markdown",
   "metadata": {},
   "source": [
    "6. Convert 39 to a binary number using floor division and mod operators. Then, compare your answer using bin() and int() functions."
   ]
  },
  {
   "cell_type": "code",
   "execution_count": null,
   "metadata": {},
   "outputs": [],
   "source": [
    "number=39\n",
    "result=\"\"\n",
    "\n",
    "while number != 0:\n",
    "    remainder = number % 2\n",
    "    number = number // 2\n",
    "    result = str(remainder) + result\n",
    "\n",
    "print(\"The result of floor division and mod operators: \"+result)\n",
    "print(\"The result of bin() and int() functions: \"+bin(int(39)))"
   ]
  },
  {
   "cell_type": "markdown",
   "metadata": {},
   "source": [
    "7. Convert 39 to an octal number using floor division and mod operators. Then, compare your answer using oct() and int() functions."
   ]
  },
  {
   "cell_type": "code",
   "execution_count": null,
   "metadata": {},
   "outputs": [],
   "source": [
    "number=39\n",
    "result=\"\"\n",
    "\n",
    "while number != 0:\n",
    "    remainder = number % 8\n",
    "    number = number // 8\n",
    "    result = str(remainder) + result\n",
    "\n",
    "print(\"The result of floor division and mod operators: \"+result)\n",
    "print(\"The result of bin() and int() functions: \"+oct(int(39)))"
   ]
  },
  {
   "cell_type": "markdown",
   "metadata": {},
   "source": [
    "8. Convert 39 to a hexadecimal number using floor division and mod operators. Then, compare your answer using hex() and int() functions."
   ]
  },
  {
   "cell_type": "code",
   "execution_count": null,
   "metadata": {},
   "outputs": [],
   "source": [
    "number=39\n",
    "result=\"\"\n",
    "\n",
    "while number != 0:\n",
    "    remainder = number % 16\n",
    "    number = number // 16\n",
    "if(remainder<10):\n",
    "    result = str(remainder) + result\n",
    "elif(remainder==10):\n",
    "    result='A'+result\n",
    "elif(remainder==11):\n",
    "    result='B'+result\n",
    "elif(remainder==12):\n",
    "    result='C'+result\n",
    "elif(remainder==13):\n",
    "    result='D'+result\n",
    "elif(remainder==14):\n",
    "    result='E'+result\n",
    "elif(remainder==15):\n",
    "    result='F'+result\n",
    "\n",
    "print(\"The result of floor division and mod operators: \"+result)\n",
    "print(\"The result of bin() and int() functions: \"+hex(int(39)))"
   ]
  },
  {
   "cell_type": "markdown",
   "metadata": {},
   "source": [
    "9. Ask a user for an amount and a tax rate in percentage. Then, display the amount, rate in percentage, calculated tax amount, and the total (amount + tax amount) in one <b>nice</b> formmated print statement."
   ]
  },
  {
   "cell_type": "code",
   "execution_count": null,
   "metadata": {},
   "outputs": [],
   "source": [
    "amount=float(input(\"Enter the amount: \"))\n",
    "taxrate=float(input(\"Enter a tax rate in percentage: \"))\n"
   ]
  },
  {
   "cell_type": "code",
   "execution_count": null,
   "metadata": {},
   "outputs": [],
   "source": [
    "taxamount=amount*(taxrate/100)"
   ]
  },
  {
   "cell_type": "code",
   "execution_count": null,
   "metadata": {},
   "outputs": [],
   "source": [
    "total=amount+taxamount"
   ]
  },
  {
   "cell_type": "code",
   "execution_count": null,
   "metadata": {},
   "outputs": [],
   "source": [
    "print(\"Amount: \"+str(amount)+\"\\nTax Rate: \"+str(taxrate)+\" %\\nTax Amount: \"+str(taxamount)+\"\\nTotal Amount: \"+str(total))"
   ]
  }
 ],
 "metadata": {
  "kernelspec": {
   "display_name": "Python 3",
   "language": "python",
   "name": "python3"
  },
  "language_info": {
   "codemirror_mode": {
    "name": "ipython",
    "version": 3
   },
   "file_extension": ".py",
   "mimetype": "text/x-python",
   "name": "python",
   "nbconvert_exporter": "python",
   "pygments_lexer": "ipython3",
   "version": "3.8.8"
  }
 },
 "nbformat": 4,
 "nbformat_minor": 4
}
