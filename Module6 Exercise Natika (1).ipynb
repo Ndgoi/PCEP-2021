{
 "cells": [
  {
   "cell_type": "markdown",
   "metadata": {},
   "source": [
    "### Exercise 1\n",
    "Convert following decimal number to a binary number by hand:\n",
    "\n",
    "    61\n",
    "    15\n",
    "    71\n",
    "    "
   ]
  },
  {
   "cell_type": "code",
   "execution_count": 15,
   "metadata": {},
   "outputs": [
    {
     "data": {
      "text/plain": [
       "'0b111101'"
      ]
     },
     "execution_count": 15,
     "metadata": {},
     "output_type": "execute_result"
    }
   ],
   "source": [
    "61 # 0011 1101\n",
    "\n",
    "15 # 0000 1111\n",
    "\n",
    "71 # 0100 0111"
   ]
  },
  {
   "cell_type": "markdown",
   "metadata": {},
   "source": [
    "### Exercise 2\n",
    "When a = 61 and b = 15, what is the result of following bitwise opertion? Use inline comments to show your result in a binary number. Find your answer by hand.\n",
    "\n",
    "    a & b\n",
    "    a | b\n",
    "    a ^ b\n",
    "    a >> 2\n",
    "    "
   ]
  },
  {
   "cell_type": "code",
   "execution_count": 17,
   "metadata": {},
   "outputs": [
    {
     "data": {
      "text/plain": [
       "'0b1111'"
      ]
     },
     "execution_count": 17,
     "metadata": {},
     "output_type": "execute_result"
    }
   ],
   "source": [
    "# convert a in to a binary number\n",
    "a = 61 # 0011 1101\n",
    "bin(a)\n",
    "\n",
    "# convert b in to a binary number\n",
    "b = 15\n",
    "bin(b)\n",
    "\n"
   ]
  },
  {
   "cell_type": "code",
   "execution_count": 8,
   "metadata": {},
   "outputs": [
    {
     "name": "stdout",
     "output_type": "stream",
     "text": [
      "0b111101\n",
      "0b1111\n"
     ]
    }
   ],
   "source": [
    "a = 61 # 0011 1101\n",
    "\n",
    "b = 15\n",
    "print (bin(a)) # convert integer to bits\n",
    "print(bin(b)) # convert integer to bits\n"
   ]
  },
  {
   "cell_type": "code",
   "execution_count": 10,
   "metadata": {},
   "outputs": [
    {
     "data": {
      "text/plain": [
       "13"
      ]
     },
     "execution_count": 10,
     "metadata": {},
     "output_type": "execute_result"
    }
   ],
   "source": [
    "# a & b\n",
    "a = 61  # 0011 1101\n",
    "b = 15\n",
    "a & b\n"
   ]
  },
  {
   "cell_type": "code",
   "execution_count": 11,
   "metadata": {},
   "outputs": [
    {
     "data": {
      "text/plain": [
       "63"
      ]
     },
     "execution_count": 11,
     "metadata": {},
     "output_type": "execute_result"
    }
   ],
   "source": [
    "# a | b\n",
    "a = 61\n",
    "b = 15\n",
    "a | b\n"
   ]
  },
  {
   "cell_type": "code",
   "execution_count": 14,
   "metadata": {},
   "outputs": [
    {
     "data": {
      "text/plain": [
       "50"
      ]
     },
     "execution_count": 14,
     "metadata": {},
     "output_type": "execute_result"
    }
   ],
   "source": [
    "# a ^ b\n",
    "a = 61\n",
    "b = 15\n",
    "a ^ b\n"
   ]
  },
  {
   "cell_type": "code",
   "execution_count": 13,
   "metadata": {},
   "outputs": [
    {
     "data": {
      "text/plain": [
       "15"
      ]
     },
     "execution_count": 13,
     "metadata": {},
     "output_type": "execute_result"
    }
   ],
   "source": [
    "# a >> 2\n",
    "a = 61 \n",
    "a >> 2\n",
    "\n"
   ]
  },
  {
   "cell_type": "markdown",
   "metadata": {},
   "source": [
    "### Exercise 3\n",
    "Ask a user for a code and store that answer. \n",
    "If the answer is <b>grey</b> then print \"You found secret code.\"\n",
    "Otherwise print that the entered code is not the secret code."
   ]
  },
  {
   "cell_type": "code",
   "execution_count": 32,
   "metadata": {},
   "outputs": [
    {
     "name": "stdout",
     "output_type": "stream",
     "text": [
      "Please enter a code  using colors : grey\n",
      "You found secret code.\n"
     ]
    }
   ],
   "source": [
    "\n",
    "code = input(\"Please enter a code  using colors : \")\n",
    "if code == \"grey\": \n",
    "    print(\"You found secret code.\")\n",
    "    \n",
    "else:\n",
    "    print(\"The entered code is not the secret code.\")"
   ]
  },
  {
   "cell_type": "markdown",
   "metadata": {},
   "source": [
    "### Exercise 4\n",
    "Ask for an exam score and store that number. If the number is greater than 100, then print out 'You cannot have an exam score higher than 100'. If the number doesn't exceeed 100 but is greater than or equal to 75, then print out 'You did great on your exam!'. Otherwise if they scored lower than 75, then print out 'You need to study harder'."
   ]
  },
  {
   "cell_type": "code",
   "execution_count": 34,
   "metadata": {},
   "outputs": [
    {
     "name": "stdout",
     "output_type": "stream",
     "text": [
      "Enter an exam score: 60\n",
      "You need to study harder\n"
     ]
    }
   ],
   "source": [
    "\n",
    "# Ask the user for an score and store that number.\n",
    "score = int(input(\"Enter an exam score: \"))\n",
    "# If the number is greater than 100, then print out 'You cannot have an score higher than 100'.\n",
    "if score > 100:\n",
    "    print('You cannot have an exam score higher than 100')\n",
    "# If the number doesn't exceed 100 but is greater than or equal to 75, then print out 'You did great on your test!'.\n",
    "elif score >= 75:\n",
    "    print('You did great on your exam!')\n",
    "# Otherwise, if they scored lower than 75, then print out 'You need to study more'.\n",
    "else:\n",
    "    print('You need to study harder')"
   ]
  },
  {
   "cell_type": "markdown",
   "metadata": {},
   "source": [
    "### Exercise 5\n",
    "Write a function to convert a test score to a grade where  \n",
    " - 90 - 100: A\n",
    " - 80 - 89:  B\n",
    " - 70 - 79:  C\n",
    " - 60 - 69:  D\n",
    " - < 60   :  F\n",
    " \n",
    "If a score is not between 0 and 100 then print out an error message. In the program, ask the user for a score and then call your function. "
   ]
  },
  {
   "cell_type": "code",
   "execution_count": 43,
   "metadata": {},
   "outputs": [],
   "source": [
    "# define your function\n",
    "def convert_score(score):\n",
    "    if score < 0 or score > 100:\n",
    "        print(\"Invalid score\")\n",
    "    elif score >= 90:\n",
    "        print(\"grade is A\")\n",
    "    elif score >= 80:\n",
    "        print(\"grade is B\")\n",
    "    elif score >= 70:\n",
    "        print(\"grade is C\")\n",
    "    elif score >= 60:\n",
    "        print(\"grade is D\")\n",
    "    else:\n",
    "        print(\"grade is F\")"
   ]
  },
  {
   "cell_type": "code",
   "execution_count": 42,
   "metadata": {},
   "outputs": [],
   "source": [
    "# ask the user for a score and then call your function\n",
    "\n",
    "def main():\n",
    "    score = float(input(\"Enter score: \"))\n",
    "    convert_score(score)\n"
   ]
  },
  {
   "cell_type": "code",
   "execution_count": null,
   "metadata": {},
   "outputs": [],
   "source": []
  }
 ],
 "metadata": {
  "kernelspec": {
   "display_name": "Python 3",
   "language": "python",
   "name": "python3"
  },
  "language_info": {
   "codemirror_mode": {
    "name": "ipython",
    "version": 3
   },
   "file_extension": ".py",
   "mimetype": "text/x-python",
   "name": "python",
   "nbconvert_exporter": "python",
   "pygments_lexer": "ipython3",
   "version": "3.8.8"
  }
 },
 "nbformat": 4,
 "nbformat_minor": 4
}
