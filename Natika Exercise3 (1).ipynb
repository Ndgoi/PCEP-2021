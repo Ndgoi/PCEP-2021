{
 "cells": [
  {
   "cell_type": "code",
   "execution_count": null,
   "id": "7eb41363",
   "metadata": {},
   "outputs": [],
   "source": [
    "# 1. What is 10 divided by 2? Show the answer as a float and an integer."
   ]
  },
  {
   "cell_type": "code",
   "execution_count": 1,
   "id": "f8de1202",
   "metadata": {},
   "outputs": [
    {
     "data": {
      "text/plain": [
       "5.0"
      ]
     },
     "execution_count": 1,
     "metadata": {},
     "output_type": "execute_result"
    }
   ],
   "source": [
    "10/2"
   ]
  },
  {
   "cell_type": "code",
   "execution_count": 2,
   "id": "b68a2161",
   "metadata": {},
   "outputs": [
    {
     "data": {
      "text/plain": [
       "5"
      ]
     },
     "execution_count": 2,
     "metadata": {},
     "output_type": "execute_result"
    }
   ],
   "source": [
    "10//2"
   ]
  },
  {
   "cell_type": "code",
   "execution_count": null,
   "id": "10791478",
   "metadata": {},
   "outputs": [],
   "source": [
    "# 2. What is the average of these scores: 80, 91, 99, 78, 95, 87, 92?"
   ]
  },
  {
   "cell_type": "code",
   "execution_count": 3,
   "id": "3826593f",
   "metadata": {},
   "outputs": [
    {
     "name": "stdout",
     "output_type": "stream",
     "text": [
      "88.85714285714286\n"
     ]
    }
   ],
   "source": [
    "sc1=80\n",
    "sc2=91\n",
    "sc3=99\n",
    "sc4=78\n",
    "sc5=95\n",
    "sc6=87\n",
    "sc7=92\n",
    "sum = (sc1 + sc2 + sc3 + sc4 + sc5 + sc6 + sc7)\n",
    "\n",
    "average = sum / 7\n",
    "print(average)"
   ]
  },
  {
   "cell_type": "code",
   "execution_count": 8,
   "id": "b9489362",
   "metadata": {},
   "outputs": [
    {
     "name": "stdout",
     "output_type": "stream",
     "text": [
      "Price:\t\t$ 49.95\n",
      "Quantity:\t$ 10\n",
      "------------------\n",
      "Subtotal:\t$ 499.5\n",
      "Sales Tax:\t$ 6.5\n",
      "------------------\n",
      "Total:\t\n",
      "$ 506.0\n"
     ]
    }
   ],
   "source": [
    "# 3. Fix the Python code on the next cell.  It is calculating the sales tax and total price (including sales tax) \n",
    "#    for 10 books when the price of a book is $49.95 and the tax rate is 6.5%\n",
    "\n",
    "price = 49.95\n",
    "qty = 10\n",
    "tax = 6.5\n",
    "subtotal = price * qty\n",
    "\n",
    "total = subtotal + tax\n",
    "\n",
    "# use formatted string\n",
    "print(\"Price:\\t\\t$\", price)\n",
    "print(\"Quantity:\\t$\", qty)\n",
    "print(\"------------------\")\n",
    "print(\"Subtotal:\\t$\", subtotal)\n",
    "print(\"Sales Tax:\\t$\", tax)\n",
    "print(\"------------------\")\n",
    "print(\"Total:\\t\\n$\", total)\n"
   ]
  },
  {
   "cell_type": "code",
   "execution_count": null,
   "id": "2d4684a2",
   "metadata": {},
   "outputs": [],
   "source": []
  }
 ],
 "metadata": {
  "kernelspec": {
   "display_name": "Python 3",
   "language": "python",
   "name": "python3"
  },
  "language_info": {
   "codemirror_mode": {
    "name": "ipython",
    "version": 3
   },
   "file_extension": ".py",
   "mimetype": "text/x-python",
   "name": "python",
   "nbconvert_exporter": "python",
   "pygments_lexer": "ipython3",
   "version": "3.8.8"
  }
 },
 "nbformat": 4,
 "nbformat_minor": 5
}
