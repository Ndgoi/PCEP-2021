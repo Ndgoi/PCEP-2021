{
 "cells": [
  {
   "cell_type": "markdown",
   "metadata": {},
   "source": [
    "## Exercises\n",
    "### Write the pseudocode for these problems. \n",
    "\n",
    "#### Define the problem by constructing an IPO diagram showing input, output, and processing steps\n",
    "Ask yourself\n",
    "- What control structures (sequence, selection and repetition) are required?\n",
    "- What variables are required?\n",
    "\n",
    "Show a check of your solution with **test data** for at least **two valid test cases**\n",
    "If you use the numbers provided in the example then the correct pseudocode will calculate the same result.\n",
    "    "
   ]
  },
  {
   "cell_type": "markdown",
   "metadata": {},
   "source": [
    "#### 1. Find the average score\n",
    "A program is needed to prompt the user operator for exam scores, calculate the average score and display the result to the screen. The average score is calculated as the sum of the scores divided by the number of scores."
   ]
  },
  {
   "cell_type": "markdown",
   "metadata": {},
   "source": [
    "Type Markdown and LaTeX:  𝛼2"
   ]
  },
  {
   "cell_type": "code",
   "execution_count": null,
   "metadata": {},
   "outputs": [],
   "source": [
    "print(\"Enter all test scores\")\n",
    "score1 = int(input())\n",
    "score2 = int(input())\n",
    "score3 = int(input())\n",
    "sum = (score1 + score2 + score3)\n",
    "total= sum/3\n",
    "print(total)\n",
    "\n",
    "\n"
   ]
  },
  {
   "cell_type": "markdown",
   "metadata": {},
   "source": [
    "#### 2. How much water runs off a roof in a rain storm?\n",
    "To calculate the runoff from any given rainfall: Take the dimensions of the footprint of the roof and convert them to inches. (So, a 50' x 20' roof is 600\" x 240\"). Multiply the roof dimensions by the number of inches of rainfall. As an example, 600\" x 240\" x 1\" = 144,000 cubic inches of water for an inch of rainfall. Divide that result by 231 to get the number of gallons (because 1 gallon = 231 cubic inches). (144,000/231 = 623.38)."
   ]
  },
  {
   "cell_type": "markdown",
   "metadata": {},
   "source": [
    "Type Markdown and LaTeX:  𝛼2"
   ]
  },
  {
   "cell_type": "code",
   "execution_count": null,
   "metadata": {},
   "outputs": [],
   "source": [
    "print(\"enter roof dimensions: \")\n",
    "roofD1 = int(input())\n",
    "roofD2 = int(input())\n",
    "print(\"enter inches of rainfall\")\n",
    "inchR =int(input())\n",
    "sum1= (roofD1 + inchR)\n",
    "\n",
    "sum2 = sum1 * inchR\n",
    "total = sum2/ 231\n",
    "print(total)\n"
   ]
  },
  {
   "cell_type": "markdown",
   "metadata": {},
   "source": [
    "#### 3. Process customer record\n",
    "A program is required to read a customer’s name, a purchase amount and a tax code. The tax code has been validated and will be one of the following: 0 tax exempt (0%) 1 state sales tax only (3%) 2 federal and state sales tax (5%) 3 special sales tax (7%) The program must then compute the sales tax and the total amount due,and print the customer’s name, purchase amount, sales tax and total amount due."
   ]
  },
  {
   "cell_type": "code",
   "execution_count": null,
   "metadata": {},
   "outputs": [],
   "source": [
    "name = input(\"Enter Customers name: \")\n",
    "purcahseA = int(input())\n",
    "\n",
    "\n",
    "tax = 0\n",
    "\n",
    "amt_pay = 0\n",
    "\n",
    "if (tax_code = 0) then\n",
    "\n",
    "          Tax = 0\n",
    "\n",
    "Else\n",
    "\n",
    "If (tax_code = 1) then\n",
    "\n",
    "         tax = purchaseA * 0.03\n",
    "\n",
    "Else\n",
    "\n",
    "If( tax_code = 2) then\n",
    "\n",
    "         tax = purchaseA * 0.05\n",
    "\n",
    "Else\n",
    "\n",
    "If ( tax_code =3) then\n",
    "\n",
    "         tax = purchaseA * 0.07\n",
    "\n",
    "amt_pay = purchaseA + tax\n",
    "\n",
    "print(name)\n",
    "\n",
    "print(purchaseA)\n",
    "\n",
    "print(tax_code)\n",
    "\n",
    "print(tax)\n",
    "\n",
    "print (amt_pay)\n",
    "\n",
    "\n",
    "\n"
   ]
  },
  {
   "cell_type": "markdown",
   "metadata": {},
   "source": [
    "Type Markdown and LaTeX:  𝛼2"
   ]
  },
  {
   "cell_type": "markdown",
   "metadata": {},
   "source": [
    "#### 4. Calculate employee's pay \n",
    "A program is required by a company to read an employee’s number, pay rate and the number of hours worked in a week. The program is then to validate the pay rate field and the hours worked field and, if valid, compute the employee’s weekly pay and then print it and the input data.\n",
    "\n",
    "Validation: According to the company’s rules, the maximum hours an employee can work per week is 60 hours, and the maximum hourly rate is $25.00 per hour. If the hours worked field or the hourly rate field is out of range, the input data and an appropriate message are to be printed and the employee’s weekly pay is not to be calculated.\n",
    "\n",
    "Weekly pay calculation: Weekly pay is calculated as hours worked times pay rate. If more than 35 hours are worked, payment for the overtime hours worked is calculated at time-and-a-half."
   ]
  },
  {
   "cell_type": "code",
   "execution_count": 6,
   "metadata": {},
   "outputs": [
    {
     "name": "stdout",
     "output_type": "stream",
     "text": [
      "Enter number of hours worked per week : 60\n",
      "Enter the hourly rate : 25\n",
      "Total Salary of the employee is :  1500.0\n"
     ]
    }
   ],
   "source": [
    "hW =int(input(\"Enter number of hours worked per week : \"))\n",
    "rate=float(input(\"Enter the hourly rate : \"))\n",
    "\n",
    "over_hours=0\n",
    "over_rate=0\n",
    "overt_pay=0\n",
    "if(hW >60):\n",
    "    overtime_hours=hours-60\n",
    "    overrate=1.5*rate\n",
    "    over_pay=over_rate*over_hours\n",
    "    total_salary=40*rate + overtime_pay\n",
    "    print(\"\\nTotal Salary of the employee with overtime pay is : \",total_salary)\n",
    "else :\n",
    "    total_salary=hW*rate\n",
    "    print(\"Total Salary of the employee is : \",total_salary)\n"
   ]
  },
  {
   "cell_type": "markdown",
   "metadata": {},
   "source": [
    "Type Markdown and LaTeX:  𝛼2"
   ]
  }
 ],
 "metadata": {
  "kernelspec": {
   "display_name": "Python 3",
   "language": "python",
   "name": "python3"
  },
  "language_info": {
   "codemirror_mode": {
    "name": "ipython",
    "version": 3
   },
   "file_extension": ".py",
   "mimetype": "text/x-python",
   "name": "python",
   "nbconvert_exporter": "python",
   "pygments_lexer": "ipython3",
   "version": "3.8.8"
  }
 },
 "nbformat": 4,
 "nbformat_minor": 2
}
